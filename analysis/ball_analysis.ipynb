{
 "cells": [
  {
   "cell_type": "code",
   "execution_count": 8,
   "metadata": {},
   "outputs": [],
   "source": [
    "import pickle\n",
    "import pandas as pd\n",
    "import matplotlib.pyplot as plt\n"
   ]
  },
  {
   "cell_type": "code",
   "execution_count": 9,
   "metadata": {},
   "outputs": [],
   "source": [
    "# read the pickle file\n",
    "with open('../tracker_stubs/ball_detections.pkl', 'rb') as f:\n",
    "    ball_positions = pickle.load(f)"
   ]
  },
  {
   "cell_type": "code",
   "execution_count": 10,
   "metadata": {},
   "outputs": [],
   "source": [
    "ball_pos = [x.get(1, []) for x in ball_positions]\n",
    "# convert list into pandas dataframe\n",
    "df_ball_positions = pd.DataFrame(ball_pos, columns=[\"x1\", \"y1\", \"x2\", \"y2\"])\n",
    "\n",
    "# interpolate missing values\n",
    "df_ball_positions = df_ball_positions.interpolate()\n",
    "df_ball_positions = df_ball_positions.bfill()"
   ]
  },
  {
   "cell_type": "code",
   "execution_count": 12,
   "metadata": {},
   "outputs": [],
   "source": [
    "df_ball_positions['mid_y'] = (df_ball_positions['y1'] + df_ball_positions['y2']) / 2    "
   ]
  },
  {
   "cell_type": "code",
   "execution_count": 14,
   "metadata": {},
   "outputs": [],
   "source": [
    "df_ball_positions['mid_y_rolling_mean'] = df_ball_positions['mid_y'].rolling(window=5, min_periods=1, center=False).mean()"
   ]
  },
  {
   "cell_type": "code",
   "execution_count": 15,
   "metadata": {},
   "outputs": [
    {
     "data": {
      "text/html": [
       "<div>\n",
       "<style scoped>\n",
       "    .dataframe tbody tr th:only-of-type {\n",
       "        vertical-align: middle;\n",
       "    }\n",
       "\n",
       "    .dataframe tbody tr th {\n",
       "        vertical-align: top;\n",
       "    }\n",
       "\n",
       "    .dataframe thead th {\n",
       "        text-align: right;\n",
       "    }\n",
       "</style>\n",
       "<table border=\"1\" class=\"dataframe\">\n",
       "  <thead>\n",
       "    <tr style=\"text-align: right;\">\n",
       "      <th></th>\n",
       "      <th>x1</th>\n",
       "      <th>y1</th>\n",
       "      <th>x2</th>\n",
       "      <th>y2</th>\n",
       "      <th>mid_y</th>\n",
       "      <th>mid_y_rolling_mean</th>\n",
       "    </tr>\n",
       "  </thead>\n",
       "  <tbody>\n",
       "    <tr>\n",
       "      <th>0</th>\n",
       "      <td>894.776917</td>\n",
       "      <td>615.943665</td>\n",
       "      <td>912.112427</td>\n",
       "      <td>633.955017</td>\n",
       "      <td>624.949341</td>\n",
       "      <td>624.949341</td>\n",
       "    </tr>\n",
       "    <tr>\n",
       "      <th>1</th>\n",
       "      <td>894.776917</td>\n",
       "      <td>615.943665</td>\n",
       "      <td>912.112427</td>\n",
       "      <td>633.955017</td>\n",
       "      <td>624.949341</td>\n",
       "      <td>624.949341</td>\n",
       "    </tr>\n",
       "    <tr>\n",
       "      <th>2</th>\n",
       "      <td>877.182312</td>\n",
       "      <td>631.530731</td>\n",
       "      <td>896.049774</td>\n",
       "      <td>651.819183</td>\n",
       "      <td>641.674957</td>\n",
       "      <td>630.524546</td>\n",
       "    </tr>\n",
       "    <tr>\n",
       "      <th>3</th>\n",
       "      <td>859.587708</td>\n",
       "      <td>647.117798</td>\n",
       "      <td>879.987122</td>\n",
       "      <td>669.683350</td>\n",
       "      <td>658.400574</td>\n",
       "      <td>637.493553</td>\n",
       "    </tr>\n",
       "    <tr>\n",
       "      <th>4</th>\n",
       "      <td>846.781372</td>\n",
       "      <td>660.448303</td>\n",
       "      <td>865.922607</td>\n",
       "      <td>681.461731</td>\n",
       "      <td>670.955017</td>\n",
       "      <td>644.185846</td>\n",
       "    </tr>\n",
       "    <tr>\n",
       "      <th>...</th>\n",
       "      <td>...</td>\n",
       "      <td>...</td>\n",
       "      <td>...</td>\n",
       "      <td>...</td>\n",
       "      <td>...</td>\n",
       "      <td>...</td>\n",
       "    </tr>\n",
       "    <tr>\n",
       "      <th>209</th>\n",
       "      <td>1187.214396</td>\n",
       "      <td>243.017501</td>\n",
       "      <td>1198.838460</td>\n",
       "      <td>254.795742</td>\n",
       "      <td>248.906621</td>\n",
       "      <td>267.525360</td>\n",
       "    </tr>\n",
       "    <tr>\n",
       "      <th>210</th>\n",
       "      <td>1184.333008</td>\n",
       "      <td>233.756439</td>\n",
       "      <td>1195.903564</td>\n",
       "      <td>245.438065</td>\n",
       "      <td>239.597252</td>\n",
       "      <td>258.215991</td>\n",
       "    </tr>\n",
       "    <tr>\n",
       "      <th>211</th>\n",
       "      <td>1183.688599</td>\n",
       "      <td>227.374741</td>\n",
       "      <td>1196.187744</td>\n",
       "      <td>241.296158</td>\n",
       "      <td>234.335449</td>\n",
       "      <td>249.716135</td>\n",
       "    </tr>\n",
       "    <tr>\n",
       "      <th>212</th>\n",
       "      <td>1180.953491</td>\n",
       "      <td>213.900055</td>\n",
       "      <td>1195.046021</td>\n",
       "      <td>228.308624</td>\n",
       "      <td>221.104340</td>\n",
       "      <td>240.431931</td>\n",
       "    </tr>\n",
       "    <tr>\n",
       "      <th>213</th>\n",
       "      <td>1180.053589</td>\n",
       "      <td>204.584427</td>\n",
       "      <td>1193.093262</td>\n",
       "      <td>218.140640</td>\n",
       "      <td>211.362534</td>\n",
       "      <td>231.061239</td>\n",
       "    </tr>\n",
       "  </tbody>\n",
       "</table>\n",
       "<p>214 rows × 6 columns</p>\n",
       "</div>"
      ],
      "text/plain": [
       "              x1          y1           x2          y2       mid_y  \\\n",
       "0     894.776917  615.943665   912.112427  633.955017  624.949341   \n",
       "1     894.776917  615.943665   912.112427  633.955017  624.949341   \n",
       "2     877.182312  631.530731   896.049774  651.819183  641.674957   \n",
       "3     859.587708  647.117798   879.987122  669.683350  658.400574   \n",
       "4     846.781372  660.448303   865.922607  681.461731  670.955017   \n",
       "..           ...         ...          ...         ...         ...   \n",
       "209  1187.214396  243.017501  1198.838460  254.795742  248.906621   \n",
       "210  1184.333008  233.756439  1195.903564  245.438065  239.597252   \n",
       "211  1183.688599  227.374741  1196.187744  241.296158  234.335449   \n",
       "212  1180.953491  213.900055  1195.046021  228.308624  221.104340   \n",
       "213  1180.053589  204.584427  1193.093262  218.140640  211.362534   \n",
       "\n",
       "     mid_y_rolling_mean  \n",
       "0            624.949341  \n",
       "1            624.949341  \n",
       "2            630.524546  \n",
       "3            637.493553  \n",
       "4            644.185846  \n",
       "..                  ...  \n",
       "209          267.525360  \n",
       "210          258.215991  \n",
       "211          249.716135  \n",
       "212          240.431931  \n",
       "213          231.061239  \n",
       "\n",
       "[214 rows x 6 columns]"
      ]
     },
     "execution_count": 15,
     "metadata": {},
     "output_type": "execute_result"
    }
   ],
   "source": [
    "df_ball_positions"
   ]
  },
  {
   "cell_type": "code",
   "execution_count": 18,
   "metadata": {},
   "outputs": [
    {
     "data": {
      "text/plain": [
       "[<matplotlib.lines.Line2D at 0x1a5f5f4c280>]"
      ]
     },
     "execution_count": 18,
     "metadata": {},
     "output_type": "execute_result"
    },
    {
     "data": {
      "image/png": "[encoded data removed]",
      "text/plain": [
       "<Figure size 640x480 with 1 Axes>"
      ]
     },
     "metadata": {},
     "output_type": "display_data"
    }
   ],
   "source": [
    "# plot mid_y_rolling_mean\n",
    "plt.plot(df_ball_positions['mid_y_rolling_mean'])"
   ]
  },
  {
   "cell_type": "code",
   "execution_count": 19,
   "metadata": {},
   "outputs": [],
   "source": [
    "df_ball_positions['delta_y'] = df_ball_positions['mid_y_rolling_mean'].diff()"
   ]
  },
  {
   "cell_type": "code",
   "execution_count": 20,
   "metadata": {},
   "outputs": [
    {
     "data": {
      "text/plain": [
       "[<matplotlib.lines.Line2D at 0x1a5f5fbc0a0>]"
      ]
     },
     "execution_count": 20,
     "metadata": {},
     "output_type": "execute_result"
    },
    {
     "data": {
      "image/png": "[encoded data removed]",
      "text/plain": [
       "<Figure size 640x480 with 1 Axes>"
      ]
     },
     "metadata": {},
     "output_type": "display_data"
    }
   ],
   "source": [
    "plt.plot(df_ball_positions['delta_y'])"
   ]
  },
  {
   "cell_type": "code",
   "execution_count": 21,
   "metadata": {},
   "outputs": [],
   "source": [
    "df_ball_positions['ball_hit'] = 0"
   ]
  },
  {
   "cell_type": "code",
   "execution_count": null,
   "metadata": {},
   "outputs": [
    {
     "name": "stderr",
     "output_type": "stream",
     "text": [
      "C:\\Users\\Natanya Modi\\AppData\\Local\\Temp\\ipykernel_25460\\3143286744.py:21: FutureWarning: ChainedAssignmentError: behaviour will change in pandas 3.0!\n",
      "You are setting values through chained assignment. Currently this works in certain cases, but when using Copy-on-Write (which will become the default behaviour in pandas 3.0) this will never work to update the original DataFrame or Series, because the intermediate object on which we are setting values will behave as a copy.\n",
      "A typical example is when you are setting values in a column of a DataFrame, like:\n",
      "\n",
      "df[\"col\"][row_indexer] = value\n",
      "\n",
      "Use `df.loc[row_indexer, \"col\"] = values` instead, to perform the assignment in a single step and ensure this keeps updating the original `df`.\n",
      "\n",
      "See the caveats in the documentation: https://pandas.pydata.org/pandas-docs/stable/user_guide/indexing.html#returning-a-view-versus-a-copy\n",
      "\n",
      "  df_ball_positions['ball_hit'].iloc[i] = 1\n",
      "C:\\Users\\Natanya Modi\\AppData\\Local\\Temp\\ipykernel_25460\\3143286744.py:21: SettingWithCopyWarning: \n",
      "A value is trying to be set on a copy of a slice from a DataFrame\n",
      "\n",
      "See the caveats in the documentation: https://pandas.pydata.org/pandas-docs/stable/user_guide/indexing.html#returning-a-view-versus-a-copy\n",
      "  df_ball_positions['ball_hit'].iloc[i] = 1\n",
      "C:\\Users\\Natanya Modi\\AppData\\Local\\Temp\\ipykernel_25460\\3143286744.py:21: FutureWarning: ChainedAssignmentError: behaviour will change in pandas 3.0!\n",
      "You are setting values through chained assignment. Currently this works in certain cases, but when using Copy-on-Write (which will become the default behaviour in pandas 3.0) this will never work to update the original DataFrame or Series, because the intermediate object on which we are setting values will behave as a copy.\n",
      "A typical example is when you are setting values in a column of a DataFrame, like:\n",
      "\n",
      "df[\"col\"][row_indexer] = value\n",
      "\n",
      "Use `df.loc[row_indexer, \"col\"] = values` instead, to perform the assignment in a single step and ensure this keeps updating the original `df`.\n",
      "\n",
      "See the caveats in the documentation: https://pandas.pydata.org/pandas-docs/stable/user_guide/indexing.html#returning-a-view-versus-a-copy\n",
      "\n",
      "  df_ball_positions['ball_hit'].iloc[i] = 1\n",
      "C:\\Users\\Natanya Modi\\AppData\\Local\\Temp\\ipykernel_25460\\3143286744.py:21: SettingWithCopyWarning: \n",
      "A value is trying to be set on a copy of a slice from a DataFrame\n",
      "\n",
      "See the caveats in the documentation: https://pandas.pydata.org/pandas-docs/stable/user_guide/indexing.html#returning-a-view-versus-a-copy\n",
      "  df_ball_positions['ball_hit'].iloc[i] = 1\n",
      "C:\\Users\\Natanya Modi\\AppData\\Local\\Temp\\ipykernel_25460\\3143286744.py:21: FutureWarning: ChainedAssignmentError: behaviour will change in pandas 3.0!\n",
      "You are setting values through chained assignment. Currently this works in certain cases, but when using Copy-on-Write (which will become the default behaviour in pandas 3.0) this will never work to update the original DataFrame or Series, because the intermediate object on which we are setting values will behave as a copy.\n",
      "A typical example is when you are setting values in a column of a DataFrame, like:\n",
      "\n",
      "df[\"col\"][row_indexer] = value\n",
      "\n",
      "Use `df.loc[row_indexer, \"col\"] = values` instead, to perform the assignment in a single step and ensure this keeps updating the original `df`.\n",
      "\n",
      "See the caveats in the documentation: https://pandas.pydata.org/pandas-docs/stable/user_guide/indexing.html#returning-a-view-versus-a-copy\n",
      "\n",
      "  df_ball_positions['ball_hit'].iloc[i] = 1\n",
      "C:\\Users\\Natanya Modi\\AppData\\Local\\Temp\\ipykernel_25460\\3143286744.py:21: SettingWithCopyWarning: \n",
      "A value is trying to be set on a copy of a slice from a DataFrame\n",
      "\n",
      "See the caveats in the documentation: https://pandas.pydata.org/pandas-docs/stable/user_guide/indexing.html#returning-a-view-versus-a-copy\n",
      "  df_ball_positions['ball_hit'].iloc[i] = 1\n",
      "C:\\Users\\Natanya Modi\\AppData\\Local\\Temp\\ipykernel_25460\\3143286744.py:21: FutureWarning: ChainedAssignmentError: behaviour will change in pandas 3.0!\n",
      "You are setting values through chained assignment. Currently this works in certain cases, but when using Copy-on-Write (which will become the default behaviour in pandas 3.0) this will never work to update the original DataFrame or Series, because the intermediate object on which we are setting values will behave as a copy.\n",
      "A typical example is when you are setting values in a column of a DataFrame, like:\n",
      "\n",
      "df[\"col\"][row_indexer] = value\n",
      "\n",
      "Use `df.loc[row_indexer, \"col\"] = values` instead, to perform the assignment in a single step and ensure this keeps updating the original `df`.\n",
      "\n",
      "See the caveats in the documentation: https://pandas.pydata.org/pandas-docs/stable/user_guide/indexing.html#returning-a-view-versus-a-copy\n",
      "\n",
      "  df_ball_positions['ball_hit'].iloc[i] = 1\n",
      "C:\\Users\\Natanya Modi\\AppData\\Local\\Temp\\ipykernel_25460\\3143286744.py:21: SettingWithCopyWarning: \n",
      "A value is trying to be set on a copy of a slice from a DataFrame\n",
      "\n",
      "See the caveats in the documentation: https://pandas.pydata.org/pandas-docs/stable/user_guide/indexing.html#returning-a-view-versus-a-copy\n",
      "  df_ball_positions['ball_hit'].iloc[i] = 1\n",
      "C:\\Users\\Natanya Modi\\AppData\\Local\\Temp\\ipykernel_25460\\3143286744.py:21: FutureWarning: ChainedAssignmentError: behaviour will change in pandas 3.0!\n",
      "You are setting values through chained assignment. Currently this works in certain cases, but when using Copy-on-Write (which will become the default behaviour in pandas 3.0) this will never work to update the original DataFrame or Series, because the intermediate object on which we are setting values will behave as a copy.\n",
      "A typical example is when you are setting values in a column of a DataFrame, like:\n",
      "\n",
      "df[\"col\"][row_indexer] = value\n",
      "\n",
      "Use `df.loc[row_indexer, \"col\"] = values` instead, to perform the assignment in a single step and ensure this keeps updating the original `df`.\n",
      "\n",
      "See the caveats in the documentation: https://pandas.pydata.org/pandas-docs/stable/user_guide/indexing.html#returning-a-view-versus-a-copy\n",
      "\n",
      "  df_ball_positions['ball_hit'].iloc[i] = 1\n",
      "C:\\Users\\Natanya Modi\\AppData\\Local\\Temp\\ipykernel_25460\\3143286744.py:21: SettingWithCopyWarning: \n",
      "A value is trying to be set on a copy of a slice from a DataFrame\n",
      "\n",
      "See the caveats in the documentation: https://pandas.pydata.org/pandas-docs/stable/user_guide/indexing.html#returning-a-view-versus-a-copy\n",
      "  df_ball_positions['ball_hit'].iloc[i] = 1\n"
     ]
    }
   ],
   "source": [
    "min_change_frames_for_hit = 25\n",
    "for i in range(1, len(df_ball_positions)-int(min_change_frames_for_hit*1.2)):\n",
    "    negative_pos_change = df_ball_positions['delta_y'].iloc[i] > 0 and df_ball_positions['delta_y'].iloc[i+1] < 0\n",
    "    positive_pos_change = df_ball_positions['delta_y'].iloc[i] < 0 and df_ball_positions['delta_y'].iloc[i+1] > 0\n",
    "\n",
    "    if negative_pos_change or positive_pos_change:\n",
    "        change_cost = 0\n",
    "        for change_frame in range(i+1, i+int(min_change_frames_for_hit*1.2)+1):\n",
    "            negative_pos_change_following_frame = df_ball_positions['delta_y'].iloc[i] > 0 and df_ball_positions['delta_y'].iloc[change_frame] < 0\n",
    "            positive_pos_change_following_frame = df_ball_positions['delta_y'].iloc[i] < 0 and df_ball_positions['delta_y'].iloc[change_frame] > 0\n",
    "\n",
    "            if negative_pos_change and negative_pos_change_following_frame:\n",
    "                change_cost += 1\n",
    "            elif positive_pos_change and positive_pos_change_following_frame:\n",
    "                change_cost += 1\n",
    "        \n",
    "        if change_cost > min_change_frames_for_hit-1:\n",
    "            df_ball_positions['ball_hit'].iloc[i] = 1\n",
    "    \n",
    "frame_nums_with_ball_hits = df_ball_positions[df_ball_positions['ball_hit'] == 1].index.tolist()\n",
    "    \n"
   ]
  },
  {
   "cell_type": "code",
   "execution_count": 23,
   "metadata": {},
   "outputs": [
    {
     "data": {
      "text/html": [
       "<div>\n",
       "<style scoped>\n",
       "    .dataframe tbody tr th:only-of-type {\n",
       "        vertical-align: middle;\n",
       "    }\n",
       "\n",
       "    .dataframe tbody tr th {\n",
       "        vertical-align: top;\n",
       "    }\n",
       "\n",
       "    .dataframe thead th {\n",
       "        text-align: right;\n",
       "    }\n",
       "</style>\n",
       "<table border=\"1\" class=\"dataframe\">\n",
       "  <thead>\n",
       "    <tr style=\"text-align: right;\">\n",
       "      <th></th>\n",
       "      <th>x1</th>\n",
       "      <th>y1</th>\n",
       "      <th>x2</th>\n",
       "      <th>y2</th>\n",
       "      <th>mid_y</th>\n",
       "      <th>mid_y_rolling_mean</th>\n",
       "      <th>delta_y</th>\n",
       "      <th>ball_hit</th>\n",
       "    </tr>\n",
       "  </thead>\n",
       "  <tbody>\n",
       "    <tr>\n",
       "      <th>11</th>\n",
       "      <td>778.320374</td>\n",
       "      <td>718.745422</td>\n",
       "      <td>796.360657</td>\n",
       "      <td>738.234985</td>\n",
       "      <td>728.490204</td>\n",
       "      <td>735.784851</td>\n",
       "      <td>6.485260</td>\n",
       "      <td>1</td>\n",
       "    </tr>\n",
       "    <tr>\n",
       "      <th>58</th>\n",
       "      <td>926.669006</td>\n",
       "      <td>242.302756</td>\n",
       "      <td>938.081055</td>\n",
       "      <td>253.124481</td>\n",
       "      <td>247.713618</td>\n",
       "      <td>244.838135</td>\n",
       "      <td>-2.170508</td>\n",
       "      <td>1</td>\n",
       "    </tr>\n",
       "    <tr>\n",
       "      <th>95</th>\n",
       "      <td>623.843811</td>\n",
       "      <td>748.683411</td>\n",
       "      <td>641.972260</td>\n",
       "      <td>767.738281</td>\n",
       "      <td>758.210846</td>\n",
       "      <td>775.624896</td>\n",
       "      <td>0.855927</td>\n",
       "      <td>1</td>\n",
       "    </tr>\n",
       "    <tr>\n",
       "      <th>135</th>\n",
       "      <td>752.211426</td>\n",
       "      <td>233.335327</td>\n",
       "      <td>760.869751</td>\n",
       "      <td>242.059662</td>\n",
       "      <td>237.697495</td>\n",
       "      <td>238.203556</td>\n",
       "      <td>-0.253031</td>\n",
       "      <td>1</td>\n",
       "    </tr>\n",
       "    <tr>\n",
       "      <th>182</th>\n",
       "      <td>1294.508545</td>\n",
       "      <td>740.690613</td>\n",
       "      <td>1313.989868</td>\n",
       "      <td>760.679138</td>\n",
       "      <td>750.684875</td>\n",
       "      <td>738.027161</td>\n",
       "      <td>5.303021</td>\n",
       "      <td>1</td>\n",
       "    </tr>\n",
       "  </tbody>\n",
       "</table>\n",
       "</div>"
      ],
      "text/plain": [
       "              x1          y1           x2          y2       mid_y  \\\n",
       "11    778.320374  718.745422   796.360657  738.234985  728.490204   \n",
       "58    926.669006  242.302756   938.081055  253.124481  247.713618   \n",
       "95    623.843811  748.683411   641.972260  767.738281  758.210846   \n",
       "135   752.211426  233.335327   760.869751  242.059662  237.697495   \n",
       "182  1294.508545  740.690613  1313.989868  760.679138  750.684875   \n",
       "\n",
       "     mid_y_rolling_mean   delta_y  ball_hit  \n",
       "11           735.784851  6.485260         1  \n",
       "58           244.838135 -2.170508         1  \n",
       "95           775.624896  0.855927         1  \n",
       "135          238.203556 -0.253031         1  \n",
       "182          738.027161  5.303021         1  "
      ]
     },
     "execution_count": 23,
     "metadata": {},
     "output_type": "execute_result"
    }
   ],
   "source": [
    "df_ball_positions[df_ball_positions['ball_hit'] == 1]"
   ]
  },
  {
   "cell_type": "code",
   "execution_count": 24,
   "metadata": {},
   "outputs": [],
   "source": [
    "frame_nums_with_ball_hits = df_ball_positions[df_ball_positions['ball_hit'] == 1].index.tolist()"
   ]
  }
 ],
 "metadata": {
  "kernelspec": {
   "display_name": "venv",
   "language": "python",
   "name": "python3"
  },
  "language_info": {
   "codemirror_mode": {
    "name": "ipython",
    "version": 3
   },
   "file_extension": ".py",
   "mimetype": "text/x-python",
   "name": "python",
   "nbconvert_exporter": "python",
   "pygments_lexer": "ipython3",
   "version": "3.10.11"
  }
 },
 "nbformat": 4,
 "nbformat_minor": 2
}
