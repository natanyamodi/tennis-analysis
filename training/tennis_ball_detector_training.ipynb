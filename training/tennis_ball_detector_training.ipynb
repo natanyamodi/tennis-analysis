{
 "cells": [
  {
   "cell_type": "code",
   "execution_count": 2,
   "metadata": {},
   "outputs": [
    {
     "name": "stdout",
     "output_type": "stream",
     "text": [
      "Collecting roboflow\n",
      "  Downloading roboflow-1.1.54-py3-none-any.whl (83 kB)\n",
      "     ---------------------------------------- 0.0/83.1 kB ? eta -:--:--\n",
      "     ---------------------------------------- 83.1/83.1 kB 2.4 MB/s eta 0:00:00\n",
      "Collecting python-dotenv\n",
      "  Using cached python_dotenv-1.0.1-py3-none-any.whl (19 kB)\n",
      "Collecting filetype\n",
      "  Downloading filetype-1.2.0-py2.py3-none-any.whl (19 kB)\n",
      "Requirement already satisfied: matplotlib in c:\\users\\natanya modi\\onedrive\\desktop\\projects\\tennis-analysis\\venv\\lib\\site-packages (from roboflow) (3.10.0)\n",
      "Collecting opencv-python-headless==4.10.0.84\n",
      "  Downloading opencv_python_headless-4.10.0.84-cp37-abi3-win_amd64.whl (38.8 MB)\n",
      "     ---------------------------------------- 0.0/38.8 MB ? eta -:--:--\n",
      "     ---------------------------------------- 0.3/38.8 MB 6.5 MB/s eta 0:00:06\n",
      "      --------------------------------------- 0.6/38.8 MB 6.3 MB/s eta 0:00:07\n",
      "     - -------------------------------------- 1.1/38.8 MB 7.8 MB/s eta 0:00:05\n",
      "     - -------------------------------------- 1.7/38.8 MB 9.2 MB/s eta 0:00:05\n",
      "     -- ------------------------------------- 2.0/38.8 MB 8.6 MB/s eta 0:00:05\n",
      "     -- ------------------------------------- 2.4/38.8 MB 8.6 MB/s eta 0:00:05\n",
      "     --- ------------------------------------ 2.9/38.8 MB 8.9 MB/s eta 0:00:05\n",
      "     --- ------------------------------------ 3.5/38.8 MB 9.3 MB/s eta 0:00:04\n",
      "     ---- ----------------------------------- 4.0/38.8 MB 9.4 MB/s eta 0:00:04\n",
      "     ---- ----------------------------------- 4.6/38.8 MB 10.2 MB/s eta 0:00:04\n",
      "     ---- ----------------------------------- 4.7/38.8 MB 10.1 MB/s eta 0:00:04\n",
      "     ---- ----------------------------------- 4.7/38.8 MB 10.1 MB/s eta 0:00:04\n",
      "     ---- ----------------------------------- 4.7/38.8 MB 10.1 MB/s eta 0:00:04\n",
      "     ---- ----------------------------------- 4.7/38.8 MB 10.1 MB/s eta 0:00:04\n",
      "     ---- ----------------------------------- 4.7/38.8 MB 10.1 MB/s eta 0:00:04\n",
      "     ---- ----------------------------------- 4.7/38.8 MB 10.1 MB/s eta 0:00:04\n",
      "     ----- ---------------------------------- 4.9/38.8 MB 6.1 MB/s eta 0:00:06\n",
      "     ----- ---------------------------------- 4.9/38.8 MB 5.9 MB/s eta 0:00:06\n",
      "     ----- ---------------------------------- 5.1/38.8 MB 5.8 MB/s eta 0:00:06\n",
      "     ----- ---------------------------------- 5.3/38.8 MB 5.8 MB/s eta 0:00:06\n",
      "     ----- ---------------------------------- 5.7/38.8 MB 5.9 MB/s eta 0:00:06\n",
      "     ------ --------------------------------- 6.2/38.8 MB 6.0 MB/s eta 0:00:06\n",
      "     ------ --------------------------------- 6.8/38.8 MB 6.4 MB/s eta 0:00:06\n",
      "     ------- -------------------------------- 7.5/38.8 MB 6.8 MB/s eta 0:00:05\n",
      "     -------- ------------------------------- 8.3/38.8 MB 7.2 MB/s eta 0:00:05\n",
      "     --------- ------------------------------ 9.2/38.8 MB 7.6 MB/s eta 0:00:04\n",
      "     ---------- ----------------------------- 9.9/38.8 MB 7.9 MB/s eta 0:00:04\n",
      "     ----------- ---------------------------- 10.7/38.8 MB 8.5 MB/s eta 0:00:04\n",
      "     ----------- ---------------------------- 11.5/38.8 MB 8.6 MB/s eta 0:00:04\n",
      "     ------------ --------------------------- 12.4/38.8 MB 9.0 MB/s eta 0:00:03\n",
      "     ------------- -------------------------- 13.1/38.8 MB 9.2 MB/s eta 0:00:03\n",
      "     -------------- ------------------------- 14.1/38.8 MB 9.5 MB/s eta 0:00:03\n",
      "     --------------- ------------------------ 14.9/38.8 MB 9.6 MB/s eta 0:00:03\n",
      "     --------------- ----------------------- 15.7/38.8 MB 16.0 MB/s eta 0:00:02\n",
      "     ---------------- ---------------------- 16.5/38.8 MB 17.7 MB/s eta 0:00:02\n",
      "     ----------------- --------------------- 17.4/38.8 MB 17.7 MB/s eta 0:00:02\n",
      "     ------------------ -------------------- 18.4/38.8 MB 18.2 MB/s eta 0:00:02\n",
      "     ------------------- ------------------- 19.3/38.8 MB 18.7 MB/s eta 0:00:02\n",
      "     -------------------- ------------------ 20.1/38.8 MB 18.7 MB/s eta 0:00:01\n",
      "     -------------------- ------------------ 20.8/38.8 MB 18.7 MB/s eta 0:00:01\n",
      "     --------------------- ----------------- 21.5/38.8 MB 18.2 MB/s eta 0:00:01\n",
      "     ---------------------- ---------------- 22.1/38.8 MB 17.7 MB/s eta 0:00:01\n",
      "     ---------------------- ---------------- 22.7/38.8 MB 17.7 MB/s eta 0:00:01\n",
      "     ----------------------- --------------- 23.4/38.8 MB 17.3 MB/s eta 0:00:01\n",
      "     ------------------------ -------------- 24.2/38.8 MB 17.3 MB/s eta 0:00:01\n",
      "     ------------------------- ------------- 24.9/38.8 MB 16.8 MB/s eta 0:00:01\n",
      "     ------------------------- ------------- 25.6/38.8 MB 16.8 MB/s eta 0:00:01\n",
      "     -------------------------- ------------ 25.9/38.8 MB 16.4 MB/s eta 0:00:01\n",
      "     -------------------------- ------------ 26.7/38.8 MB 15.6 MB/s eta 0:00:01\n",
      "     --------------------------- ----------- 27.2/38.8 MB 15.6 MB/s eta 0:00:01\n",
      "     ---------------------------- ---------- 28.0/38.8 MB 15.2 MB/s eta 0:00:01\n",
      "     ---------------------------- ---------- 28.8/38.8 MB 14.9 MB/s eta 0:00:01\n",
      "     ----------------------------- --------- 29.5/38.8 MB 14.9 MB/s eta 0:00:01\n",
      "     ------------------------------ -------- 30.3/38.8 MB 14.6 MB/s eta 0:00:01\n",
      "     ------------------------------- ------- 30.9/38.8 MB 14.9 MB/s eta 0:00:01\n",
      "     -------------------------------- ------ 31.8/38.8 MB 14.9 MB/s eta 0:00:01\n",
      "     -------------------------------- ------ 32.6/38.8 MB 15.2 MB/s eta 0:00:01\n",
      "     --------------------------------- ----- 33.5/38.8 MB 15.2 MB/s eta 0:00:01\n",
      "     ---------------------------------- ---- 34.0/38.8 MB 16.0 MB/s eta 0:00:01\n",
      "     ---------------------------------- ---- 34.8/38.8 MB 15.2 MB/s eta 0:00:01\n",
      "     ----------------------------------- --- 35.6/38.8 MB 15.6 MB/s eta 0:00:01\n",
      "     ------------------------------------ -- 36.5/38.8 MB 16.4 MB/s eta 0:00:01\n",
      "     ------------------------------------- - 37.4/38.8 MB 16.8 MB/s eta 0:00:01\n",
      "     --------------------------------------  38.4/38.8 MB 17.3 MB/s eta 0:00:01\n",
      "     --------------------------------------  38.7/38.8 MB 17.2 MB/s eta 0:00:01\n",
      "     --------------------------------------  38.7/38.8 MB 17.2 MB/s eta 0:00:01\n",
      "     --------------------------------------  38.7/38.8 MB 17.2 MB/s eta 0:00:01\n",
      "     --------------------------------------- 38.8/38.8 MB 13.1 MB/s eta 0:00:00\n",
      "Requirement already satisfied: kiwisolver>=1.3.1 in c:\\users\\natanya modi\\onedrive\\desktop\\projects\\tennis-analysis\\venv\\lib\\site-packages (from roboflow) (1.4.8)\n",
      "Requirement already satisfied: Pillow>=7.1.2 in c:\\users\\natanya modi\\onedrive\\desktop\\projects\\tennis-analysis\\venv\\lib\\site-packages (from roboflow) (11.1.0)\n",
      "Requirement already satisfied: urllib3>=1.26.6 in c:\\users\\natanya modi\\onedrive\\desktop\\projects\\tennis-analysis\\venv\\lib\\site-packages (from roboflow) (2.3.0)\n",
      "Requirement already satisfied: PyYAML>=5.3.1 in c:\\users\\natanya modi\\onedrive\\desktop\\projects\\tennis-analysis\\venv\\lib\\site-packages (from roboflow) (6.0.2)\n",
      "Requirement already satisfied: python-dateutil in c:\\users\\natanya modi\\onedrive\\desktop\\projects\\tennis-analysis\\venv\\lib\\site-packages (from roboflow) (2.9.0.post0)\n",
      "Requirement already satisfied: six in c:\\users\\natanya modi\\onedrive\\desktop\\projects\\tennis-analysis\\venv\\lib\\site-packages (from roboflow) (1.17.0)\n",
      "Collecting requests-toolbelt\n",
      "  Downloading requests_toolbelt-1.0.0-py2.py3-none-any.whl (54 kB)\n",
      "     ---------------------------------------- 0.0/54.5 kB ? eta -:--:--\n",
      "     ---------------------------------------- 54.5/54.5 kB ? eta 0:00:00\n",
      "Requirement already satisfied: tqdm>=4.41.0 in c:\\users\\natanya modi\\onedrive\\desktop\\projects\\tennis-analysis\\venv\\lib\\site-packages (from roboflow) (4.67.1)\n",
      "Requirement already satisfied: numpy>=1.18.5 in c:\\users\\natanya modi\\onedrive\\desktop\\projects\\tennis-analysis\\venv\\lib\\site-packages (from roboflow) (2.1.1)\n",
      "Requirement already satisfied: requests in c:\\users\\natanya modi\\onedrive\\desktop\\projects\\tennis-analysis\\venv\\lib\\site-packages (from roboflow) (2.32.3)\n",
      "Requirement already satisfied: certifi in c:\\users\\natanya modi\\onedrive\\desktop\\projects\\tennis-analysis\\venv\\lib\\site-packages (from roboflow) (2025.1.31)\n",
      "Collecting idna==3.7\n",
      "  Downloading idna-3.7-py3-none-any.whl (66 kB)\n",
      "     ---------------------------------------- 0.0/66.8 kB ? eta -:--:--\n",
      "     ---------------------------------------- 66.8/66.8 kB 3.8 MB/s eta 0:00:00\n",
      "Requirement already satisfied: cycler in c:\\users\\natanya modi\\onedrive\\desktop\\projects\\tennis-analysis\\venv\\lib\\site-packages (from roboflow) (0.12.1)\n",
      "Requirement already satisfied: colorama in c:\\users\\natanya modi\\onedrive\\desktop\\projects\\tennis-analysis\\venv\\lib\\site-packages (from tqdm>=4.41.0->roboflow) (0.4.6)\n",
      "Requirement already satisfied: pyparsing>=2.3.1 in c:\\users\\natanya modi\\onedrive\\desktop\\projects\\tennis-analysis\\venv\\lib\\site-packages (from matplotlib->roboflow) (3.2.1)\n",
      "Requirement already satisfied: fonttools>=4.22.0 in c:\\users\\natanya modi\\onedrive\\desktop\\projects\\tennis-analysis\\venv\\lib\\site-packages (from matplotlib->roboflow) (4.56.0)\n",
      "Requirement already satisfied: packaging>=20.0 in c:\\users\\natanya modi\\onedrive\\desktop\\projects\\tennis-analysis\\venv\\lib\\site-packages (from matplotlib->roboflow) (24.2)\n",
      "Requirement already satisfied: contourpy>=1.0.1 in c:\\users\\natanya modi\\onedrive\\desktop\\projects\\tennis-analysis\\venv\\lib\\site-packages (from matplotlib->roboflow) (1.3.1)\n",
      "Requirement already satisfied: charset-normalizer<4,>=2 in c:\\users\\natanya modi\\onedrive\\desktop\\projects\\tennis-analysis\\venv\\lib\\site-packages (from requests->roboflow) (3.4.1)\n",
      "Installing collected packages: filetype, python-dotenv, opencv-python-headless, idna, requests-toolbelt, roboflow\n",
      "  Attempting uninstall: idna\n",
      "    Found existing installation: idna 3.10\n",
      "    Uninstalling idna-3.10:\n",
      "      Successfully uninstalled idna-3.10\n",
      "Successfully installed filetype-1.2.0 idna-3.7 opencv-python-headless-4.10.0.84 python-dotenv-1.0.1 requests-toolbelt-1.0.0 roboflow-1.1.54\n"
     ]
    },
    {
     "name": "stderr",
     "output_type": "stream",
     "text": [
      "\n",
      "[notice] A new release of pip is available: 23.0.1 -> 25.0.1\n",
      "[notice] To update, run: python.exe -m pip install --upgrade pip\n"
     ]
    },
    {
     "name": "stdout",
     "output_type": "stream",
     "text": [
      "Requirement already satisfied: ultralytics in c:\\users\\natanya modi\\onedrive\\desktop\\projects\\tennis-analysis\\venv\\lib\\site-packages (8.3.75)\n",
      "Requirement already satisfied: pillow>=7.1.2 in c:\\users\\natanya modi\\onedrive\\desktop\\projects\\tennis-analysis\\venv\\lib\\site-packages (from ultralytics) (11.1.0)\n",
      "Requirement already satisfied: pandas>=1.1.4 in c:\\users\\natanya modi\\onedrive\\desktop\\projects\\tennis-analysis\\venv\\lib\\site-packages (from ultralytics) (2.2.3)\n",
      "Requirement already satisfied: torch>=1.8.0 in c:\\users\\natanya modi\\onedrive\\desktop\\projects\\tennis-analysis\\venv\\lib\\site-packages (from ultralytics) (2.6.0)\n",
      "Requirement already satisfied: requests>=2.23.0 in c:\\users\\natanya modi\\onedrive\\desktop\\projects\\tennis-analysis\\venv\\lib\\site-packages (from ultralytics) (2.32.3)\n",
      "Requirement already satisfied: torchvision>=0.9.0 in c:\\users\\natanya modi\\onedrive\\desktop\\projects\\tennis-analysis\\venv\\lib\\site-packages (from ultralytics) (0.21.0)\n",
      "Requirement already satisfied: pyyaml>=5.3.1 in c:\\users\\natanya modi\\onedrive\\desktop\\projects\\tennis-analysis\\venv\\lib\\site-packages (from ultralytics) (6.0.2)\n",
      "Requirement already satisfied: py-cpuinfo in c:\\users\\natanya modi\\onedrive\\desktop\\projects\\tennis-analysis\\venv\\lib\\site-packages (from ultralytics) (9.0.0)\n",
      "Requirement already satisfied: tqdm>=4.64.0 in c:\\users\\natanya modi\\onedrive\\desktop\\projects\\tennis-analysis\\venv\\lib\\site-packages (from ultralytics) (4.67.1)\n",
      "Requirement already satisfied: scipy>=1.4.1 in c:\\users\\natanya modi\\onedrive\\desktop\\projects\\tennis-analysis\\venv\\lib\\site-packages (from ultralytics) (1.15.1)\n",
      "Requirement already satisfied: matplotlib>=3.3.0 in c:\\users\\natanya modi\\onedrive\\desktop\\projects\\tennis-analysis\\venv\\lib\\site-packages (from ultralytics) (3.10.0)\n",
      "Requirement already satisfied: seaborn>=0.11.0 in c:\\users\\natanya modi\\onedrive\\desktop\\projects\\tennis-analysis\\venv\\lib\\site-packages (from ultralytics) (0.13.2)\n",
      "Requirement already satisfied: psutil in c:\\users\\natanya modi\\onedrive\\desktop\\projects\\tennis-analysis\\venv\\lib\\site-packages (from ultralytics) (6.1.1)\n",
      "Requirement already satisfied: ultralytics-thop>=2.0.0 in c:\\users\\natanya modi\\onedrive\\desktop\\projects\\tennis-analysis\\venv\\lib\\site-packages (from ultralytics) (2.0.14)\n",
      "Requirement already satisfied: opencv-python>=4.6.0 in c:\\users\\natanya modi\\onedrive\\desktop\\projects\\tennis-analysis\\venv\\lib\\site-packages (from ultralytics) (4.11.0.86)\n",
      "Requirement already satisfied: numpy<=2.1.1,>=1.23.0 in c:\\users\\natanya modi\\onedrive\\desktop\\projects\\tennis-analysis\\venv\\lib\\site-packages (from ultralytics) (2.1.1)\n",
      "Requirement already satisfied: fonttools>=4.22.0 in c:\\users\\natanya modi\\onedrive\\desktop\\projects\\tennis-analysis\\venv\\lib\\site-packages (from matplotlib>=3.3.0->ultralytics) (4.56.0)\n",
      "Requirement already satisfied: packaging>=20.0 in c:\\users\\natanya modi\\onedrive\\desktop\\projects\\tennis-analysis\\venv\\lib\\site-packages (from matplotlib>=3.3.0->ultralytics) (24.2)\n",
      "Requirement already satisfied: python-dateutil>=2.7 in c:\\users\\natanya modi\\onedrive\\desktop\\projects\\tennis-analysis\\venv\\lib\\site-packages (from matplotlib>=3.3.0->ultralytics) (2.9.0.post0)\n",
      "Requirement already satisfied: cycler>=0.10 in c:\\users\\natanya modi\\onedrive\\desktop\\projects\\tennis-analysis\\venv\\lib\\site-packages (from matplotlib>=3.3.0->ultralytics) (0.12.1)\n",
      "Requirement already satisfied: pyparsing>=2.3.1 in c:\\users\\natanya modi\\onedrive\\desktop\\projects\\tennis-analysis\\venv\\lib\\site-packages (from matplotlib>=3.3.0->ultralytics) (3.2.1)\n",
      "Requirement already satisfied: kiwisolver>=1.3.1 in c:\\users\\natanya modi\\onedrive\\desktop\\projects\\tennis-analysis\\venv\\lib\\site-packages (from matplotlib>=3.3.0->ultralytics) (1.4.8)\n",
      "Requirement already satisfied: contourpy>=1.0.1 in c:\\users\\natanya modi\\onedrive\\desktop\\projects\\tennis-analysis\\venv\\lib\\site-packages (from matplotlib>=3.3.0->ultralytics) (1.3.1)\n",
      "Requirement already satisfied: tzdata>=2022.7 in c:\\users\\natanya modi\\onedrive\\desktop\\projects\\tennis-analysis\\venv\\lib\\site-packages (from pandas>=1.1.4->ultralytics) (2025.1)\n",
      "Requirement already satisfied: pytz>=2020.1 in c:\\users\\natanya modi\\onedrive\\desktop\\projects\\tennis-analysis\\venv\\lib\\site-packages (from pandas>=1.1.4->ultralytics) (2025.1)\n",
      "Requirement already satisfied: urllib3<3,>=1.21.1 in c:\\users\\natanya modi\\onedrive\\desktop\\projects\\tennis-analysis\\venv\\lib\\site-packages (from requests>=2.23.0->ultralytics) (2.3.0)\n",
      "Requirement already satisfied: certifi>=2017.4.17 in c:\\users\\natanya modi\\onedrive\\desktop\\projects\\tennis-analysis\\venv\\lib\\site-packages (from requests>=2.23.0->ultralytics) (2025.1.31)\n",
      "Requirement already satisfied: charset-normalizer<4,>=2 in c:\\users\\natanya modi\\onedrive\\desktop\\projects\\tennis-analysis\\venv\\lib\\site-packages (from requests>=2.23.0->ultralytics) (3.4.1)\n",
      "Requirement already satisfied: idna<4,>=2.5 in c:\\users\\natanya modi\\onedrive\\desktop\\projects\\tennis-analysis\\venv\\lib\\site-packages (from requests>=2.23.0->ultralytics) (3.7)\n",
      "Requirement already satisfied: fsspec in c:\\users\\natanya modi\\onedrive\\desktop\\projects\\tennis-analysis\\venv\\lib\\site-packages (from torch>=1.8.0->ultralytics) (2025.2.0)\n",
      "Requirement already satisfied: jinja2 in c:\\users\\natanya modi\\onedrive\\desktop\\projects\\tennis-analysis\\venv\\lib\\site-packages (from torch>=1.8.0->ultralytics) (3.1.5)\n",
      "Requirement already satisfied: filelock in c:\\users\\natanya modi\\onedrive\\desktop\\projects\\tennis-analysis\\venv\\lib\\site-packages (from torch>=1.8.0->ultralytics) (3.17.0)\n",
      "Requirement already satisfied: networkx in c:\\users\\natanya modi\\onedrive\\desktop\\projects\\tennis-analysis\\venv\\lib\\site-packages (from torch>=1.8.0->ultralytics) (3.4.2)\n",
      "Requirement already satisfied: sympy==1.13.1 in c:\\users\\natanya modi\\onedrive\\desktop\\projects\\tennis-analysis\\venv\\lib\\site-packages (from torch>=1.8.0->ultralytics) (1.13.1)\n",
      "Requirement already satisfied: typing-extensions>=4.10.0 in c:\\users\\natanya modi\\onedrive\\desktop\\projects\\tennis-analysis\\venv\\lib\\site-packages (from torch>=1.8.0->ultralytics) (4.12.2)\n",
      "Requirement already satisfied: mpmath<1.4,>=1.1.0 in c:\\users\\natanya modi\\onedrive\\desktop\\projects\\tennis-analysis\\venv\\lib\\site-packages (from sympy==1.13.1->torch>=1.8.0->ultralytics) (1.3.0)\n",
      "Requirement already satisfied: colorama in c:\\users\\natanya modi\\onedrive\\desktop\\projects\\tennis-analysis\\venv\\lib\\site-packages (from tqdm>=4.64.0->ultralytics) (0.4.6)\n",
      "Requirement already satisfied: six>=1.5 in c:\\users\\natanya modi\\onedrive\\desktop\\projects\\tennis-analysis\\venv\\lib\\site-packages (from python-dateutil>=2.7->matplotlib>=3.3.0->ultralytics) (1.17.0)\n",
      "Requirement already satisfied: MarkupSafe>=2.0 in c:\\users\\natanya modi\\onedrive\\desktop\\projects\\tennis-analysis\\venv\\lib\\site-packages (from jinja2->torch>=1.8.0->ultralytics) (3.0.2)\n"
     ]
    },
    {
     "name": "stderr",
     "output_type": "stream",
     "text": [
      "\n",
      "[notice] A new release of pip is available: 23.0.1 -> 25.0.1\n",
      "[notice] To update, run: python.exe -m pip install --upgrade pip\n"
     ]
    }
   ],
   "source": [
    "!pip install roboflow\n",
    "!pip install ultralytics"
   ]
  },
  {
   "cell_type": "code",
   "execution_count": 3,
   "metadata": {},
   "outputs": [
    {
     "name": "stderr",
     "output_type": "stream",
     "text": [
      "\n",
      "[notice] A new release of pip is available: 23.0.1 -> 25.0.1\n",
      "[notice] To update, run: python.exe -m pip install --upgrade pip\n"
     ]
    },
    {
     "name": "stdout",
     "output_type": "stream",
     "text": [
      "Requirement already satisfied: roboflow in c:\\users\\natanya modi\\onedrive\\desktop\\projects\\tennis-analysis\\venv\\lib\\site-packages (1.1.54)\n",
      "Requirement already satisfied: certifi in c:\\users\\natanya modi\\onedrive\\desktop\\projects\\tennis-analysis\\venv\\lib\\site-packages (from roboflow) (2025.1.31)\n",
      "Requirement already satisfied: urllib3>=1.26.6 in c:\\users\\natanya modi\\onedrive\\desktop\\projects\\tennis-analysis\\venv\\lib\\site-packages (from roboflow) (2.3.0)\n",
      "Requirement already satisfied: tqdm>=4.41.0 in c:\\users\\natanya modi\\onedrive\\desktop\\projects\\tennis-analysis\\venv\\lib\\site-packages (from roboflow) (4.67.1)\n",
      "Requirement already satisfied: cycler in c:\\users\\natanya modi\\onedrive\\desktop\\projects\\tennis-analysis\\venv\\lib\\site-packages (from roboflow) (0.12.1)\n",
      "Requirement already satisfied: python-dotenv in c:\\users\\natanya modi\\onedrive\\desktop\\projects\\tennis-analysis\\venv\\lib\\site-packages (from roboflow) (1.0.1)\n",
      "Requirement already satisfied: opencv-python-headless==4.10.0.84 in c:\\users\\natanya modi\\onedrive\\desktop\\projects\\tennis-analysis\\venv\\lib\\site-packages (from roboflow) (4.10.0.84)\n",
      "Requirement already satisfied: requests in c:\\users\\natanya modi\\onedrive\\desktop\\projects\\tennis-analysis\\venv\\lib\\site-packages (from roboflow) (2.32.3)\n",
      "Requirement already satisfied: filetype in c:\\users\\natanya modi\\onedrive\\desktop\\projects\\tennis-analysis\\venv\\lib\\site-packages (from roboflow) (1.2.0)\n",
      "Requirement already satisfied: Pillow>=7.1.2 in c:\\users\\natanya modi\\onedrive\\desktop\\projects\\tennis-analysis\\venv\\lib\\site-packages (from roboflow) (11.1.0)\n",
      "Requirement already satisfied: python-dateutil in c:\\users\\natanya modi\\onedrive\\desktop\\projects\\tennis-analysis\\venv\\lib\\site-packages (from roboflow) (2.9.0.post0)\n",
      "Requirement already satisfied: matplotlib in c:\\users\\natanya modi\\onedrive\\desktop\\projects\\tennis-analysis\\venv\\lib\\site-packages (from roboflow) (3.10.0)\n",
      "Requirement already satisfied: requests-toolbelt in c:\\users\\natanya modi\\onedrive\\desktop\\projects\\tennis-analysis\\venv\\lib\\site-packages (from roboflow) (1.0.0)\n",
      "Requirement already satisfied: PyYAML>=5.3.1 in c:\\users\\natanya modi\\onedrive\\desktop\\projects\\tennis-analysis\\venv\\lib\\site-packages (from roboflow) (6.0.2)\n",
      "Requirement already satisfied: numpy>=1.18.5 in c:\\users\\natanya modi\\onedrive\\desktop\\projects\\tennis-analysis\\venv\\lib\\site-packages (from roboflow) (2.1.1)\n",
      "Requirement already satisfied: idna==3.7 in c:\\users\\natanya modi\\onedrive\\desktop\\projects\\tennis-analysis\\venv\\lib\\site-packages (from roboflow) (3.7)\n",
      "Requirement already satisfied: six in c:\\users\\natanya modi\\onedrive\\desktop\\projects\\tennis-analysis\\venv\\lib\\site-packages (from roboflow) (1.17.0)\n",
      "Requirement already satisfied: kiwisolver>=1.3.1 in c:\\users\\natanya modi\\onedrive\\desktop\\projects\\tennis-analysis\\venv\\lib\\site-packages (from roboflow) (1.4.8)\n",
      "Requirement already satisfied: colorama in c:\\users\\natanya modi\\onedrive\\desktop\\projects\\tennis-analysis\\venv\\lib\\site-packages (from tqdm>=4.41.0->roboflow) (0.4.6)\n",
      "Requirement already satisfied: packaging>=20.0 in c:\\users\\natanya modi\\onedrive\\desktop\\projects\\tennis-analysis\\venv\\lib\\site-packages (from matplotlib->roboflow) (24.2)\n",
      "Requirement already satisfied: fonttools>=4.22.0 in c:\\users\\natanya modi\\onedrive\\desktop\\projects\\tennis-analysis\\venv\\lib\\site-packages (from matplotlib->roboflow) (4.56.0)\n",
      "Requirement already satisfied: pyparsing>=2.3.1 in c:\\users\\natanya modi\\onedrive\\desktop\\projects\\tennis-analysis\\venv\\lib\\site-packages (from matplotlib->roboflow) (3.2.1)\n",
      "Requirement already satisfied: contourpy>=1.0.1 in c:\\users\\natanya modi\\onedrive\\desktop\\projects\\tennis-analysis\\venv\\lib\\site-packages (from matplotlib->roboflow) (1.3.1)\n",
      "Requirement already satisfied: charset-normalizer<4,>=2 in c:\\users\\natanya modi\\onedrive\\desktop\\projects\\tennis-analysis\\venv\\lib\\site-packages (from requests->roboflow) (3.4.1)\n",
      "loading Roboflow workspace...\n",
      "loading Roboflow project...\n"
     ]
    },
    {
     "name": "stderr",
     "output_type": "stream",
     "text": [
      "Downloading Dataset Version Zip in tennis-ball-detection-6 to yolov5pytorch:: 100%|██████████| 52040/52040 [00:10<00:00, 4758.51it/s] "
     ]
    },
    {
     "name": "stdout",
     "output_type": "stream",
     "text": [
      "\n"
     ]
    },
    {
     "name": "stderr",
     "output_type": "stream",
     "text": [
      "\n",
      "Extracting Dataset Version Zip to tennis-ball-detection-6 in yolov5pytorch:: 100%|██████████| 1168/1168 [00:03<00:00, 364.98it/s]\n"
     ]
    }
   ],
   "source": [
    "!pip install roboflow\n",
    "\n",
    "from roboflow import Roboflow\n",
    "rf = Roboflow(api_key=\"Khes8ymj3NyvUsO96PIh\")\n",
    "project = rf.workspace(\"viren-dhanwani\").project(\"tennis-ball-detection\")\n",
    "version = project.version(6)\n",
    "dataset = version.download(\"yolov5\")        "
   ]
  },
  {
   "cell_type": "code",
   "execution_count": 4,
   "metadata": {},
   "outputs": [],
   "source": [
    "import shutil"
   ]
  },
  {
   "cell_type": "markdown",
   "metadata": {},
   "source": []
  },
  {
   "cell_type": "code",
   "execution_count": 5,
   "metadata": {},
   "outputs": [
    {
     "data": {
      "text/plain": [
       "'tennis-ball-detection-6/tennis-ball-detection-6/valid'"
      ]
     },
     "execution_count": 5,
     "metadata": {},
     "output_type": "execute_result"
    }
   ],
   "source": [
    "shutil.move('tennis-ball-detection-6/train',\n",
    "            'tennis-ball-detection-6/tennis-ball-detection-6/train')\n",
    "shutil.move('tennis-ball-detection-6/test',\n",
    "            'tennis-ball-detection-6/tennis-ball-detection-6/test')\n",
    "shutil.move('tennis-ball-detection-6/valid',\n",
    "            'tennis-ball-detection-6/tennis-ball-detection-6/valid')"
   ]
  },
  {
   "cell_type": "code",
   "execution_count": 7,
   "metadata": {},
   "outputs": [
    {
     "name": "stderr",
     "output_type": "stream",
     "text": [
      "Traceback (most recent call last):\n",
      "  File \"C:\\Users\\Natanya Modi\\AppData\\Local\\Programs\\Python\\Python310\\lib\\runpy.py\", line 196, in _run_module_as_main\n",
      "    return _run_code(code, main_globals, None,\n",
      "  File \"C:\\Users\\Natanya Modi\\AppData\\Local\\Programs\\Python\\Python310\\lib\\runpy.py\", line 86, in _run_code\n",
      "    exec(code, run_globals)\n",
      "  File \"c:\\Users\\Natanya Modi\\OneDrive\\Desktop\\Projects\\tennis-analysis\\venv\\Scripts\\yolo.exe\\__main__.py\", line 7, in <module>\n",
      "  File \"C:\\Users\\Natanya Modi\\OneDrive\\Desktop\\Projects\\tennis-analysis\\venv\\lib\\site-packages\\ultralytics\\cfg\\__init__.py\", line 957, in entrypoint\n",
      "    model = YOLO(model, task=task)\n",
      "  File \"C:\\Users\\Natanya Modi\\OneDrive\\Desktop\\Projects\\tennis-analysis\\venv\\lib\\site-packages\\ultralytics\\models\\yolo\\model.py\", line 23, in __init__\n",
      "    super().__init__(model=model, task=task, verbose=verbose)\n",
      "  File \"C:\\Users\\Natanya Modi\\OneDrive\\Desktop\\Projects\\tennis-analysis\\venv\\lib\\site-packages\\ultralytics\\engine\\model.py\", line 147, in __init__\n",
      "    self._load(model, task=task)\n",
      "  File \"C:\\Users\\Natanya Modi\\OneDrive\\Desktop\\Projects\\tennis-analysis\\venv\\lib\\site-packages\\ultralytics\\engine\\model.py\", line 290, in _load\n",
      "    self.model, self.ckpt = attempt_load_one_weight(weights)\n",
      "  File \"C:\\Users\\Natanya Modi\\OneDrive\\Desktop\\Projects\\tennis-analysis\\venv\\lib\\site-packages\\ultralytics\\nn\\tasks.py\", line 900, in attempt_load_one_weight\n",
      "    ckpt, weight = torch_safe_load(weight)  # load ckpt\n",
      "  File \"C:\\Users\\Natanya Modi\\OneDrive\\Desktop\\Projects\\tennis-analysis\\venv\\lib\\site-packages\\ultralytics\\nn\\tasks.py\", line 827, in torch_safe_load\n",
      "    ckpt = torch.load(file, map_location=\"cpu\")\n",
      "  File \"C:\\Users\\Natanya Modi\\OneDrive\\Desktop\\Projects\\tennis-analysis\\venv\\lib\\site-packages\\ultralytics\\utils\\patches.py\", line 86, in torch_load\n",
      "    return _torch_load(*args, **kwargs)\n",
      "  File \"C:\\Users\\Natanya Modi\\OneDrive\\Desktop\\Projects\\tennis-analysis\\venv\\lib\\site-packages\\torch\\serialization.py\", line 1425, in load\n",
      "    with _open_file_like(f, \"rb\") as opened_file:\n",
      "  File \"C:\\Users\\Natanya Modi\\OneDrive\\Desktop\\Projects\\tennis-analysis\\venv\\lib\\site-packages\\torch\\serialization.py\", line 751, in _open_file_like\n",
      "    return _open_file(name_or_buffer, mode)\n",
      "  File \"C:\\Users\\Natanya Modi\\OneDrive\\Desktop\\Projects\\tennis-analysis\\venv\\lib\\site-packages\\torch\\serialization.py\", line 732, in __init__\n",
      "    super().__init__(open(name, mode))\n",
      "FileNotFoundError: [Errno 2] No such file or directory: 'yolov516u.pt'\n"
     ]
    }
   ],
   "source": [
    "!yolo task=detect mode=train model=yolov516u.pt data=(dataset.location)/data.yaml epochs=100 imgsz=640"
   ]
  }
 ],
 "metadata": {
  "kernelspec": {
   "display_name": "venv",
   "language": "python",
   "name": "python3"
  },
  "language_info": {
   "codemirror_mode": {
    "name": "ipython",
    "version": 3
   },
   "file_extension": ".py",
   "mimetype": "text/x-python",
   "name": "python",
   "nbconvert_exporter": "python",
   "pygments_lexer": "ipython3",
   "version": "3.10.11"
  }
 },
 "nbformat": 4,
 "nbformat_minor": 2
}
